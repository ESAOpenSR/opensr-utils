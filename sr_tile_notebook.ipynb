{
 "cells": [
  {
   "cell_type": "markdown",
   "id": "ba938a2e-e31a-40f0-9b2d-24be8fc700b7",
   "metadata": {},
   "source": [
    "# 1. Prepare Data\n",
    "The 'extract_rgbnir_from_S2_folder' function creates a georeferenced .tiff of the RGB-NIR bands from the '.SAFE' data structure as provided by Scihub. The stacked image is saved in the same directory."
   ]
  },
  {
   "cell_type": "code",
   "execution_count": 1,
   "id": "c056b204-8b25-406a-81b0-a03226a9de79",
   "metadata": {},
   "outputs": [
    {
     "name": "stdout",
     "output_type": "stream",
     "text": [
      "writing band R ...\n",
      "writing band G ...\n",
      "writing band B ...\n",
      "writing band NIR ...\n",
      "Image succesfully written to: /data2/simon/test_s2/S2A_MSIL2A_20230729T100031_N0509_R122_T33TUG_20230729T134559.SAFE/stacked_RGBNIR.tif\n",
      "writing band RE1 ...\n",
      "writing band RE2 ...\n",
      "writing band RE3 ...\n",
      "writing band NIR2 ...\n",
      "writing band SWIR1 ...\n",
      "writing band SWIR2 ...\n",
      "Image succesfully written to: /data2/simon/test_s2/S2A_MSIL2A_20230729T100031_N0509_R122_T33TUG_20230729T134559.SAFE/stacked_20m.tif\n"
     ]
    }
   ],
   "source": [
    "# if we have raw S2 download, create stacked image\n",
    "from utils.rgbnir_stacked_from_S2_folder   import extract_rgbnir_from_S2_folder\n",
    "from utils.bands20m_stacked_from_S2_folder import extract_20mbands_from_S2_folder\n",
    "\n",
    "stack_needed=True\n",
    "if stack_needed:\n",
    "    folder_path = \"/data2/simon/test_s2/S2A_MSIL2A_20230729T100031_N0509_R122_T33TUG_20230729T134559.SAFE\"\n",
    "    extract_rgbnir_from_S2_folder(folder_path)\n",
    "    extract_20mbands_from_S2_folder(folder_path)"
   ]
  },
  {
   "cell_type": "markdown",
   "id": "2e3e64fd-da3b-4c03-9b37-d2bd3e47577e",
   "metadata": {},
   "source": [
    "# 2. SR functions\n",
    "## 2.1 Create SR Object\n",
    "This class holds all the information and function to SR a stacked RGB-NIR image. When initialized it holds the rasterio windowed reading coordinates with an overlap. The 'super_resolute_whole_image' function iteratively SRs the windows and cobines them together, averaging out the values for the overlapping areas.  \n",
    "**Note some inefficiency problems:**\n",
    "- Doesn't support multi-GPU inference\n",
    "- The whole initialized SR tensor is stored in memory #ToDo: change to windowed writing with rasterio\n",
    "- images are SR'd one by one, not batched\n",
    "- other functionalities, like histogram matching, run single-threadedly"
   ]
  },
  {
   "cell_type": "code",
   "execution_count": 3,
   "id": "2aa405d2-2a57-4159-9065-c1b7f54fbceb",
   "metadata": {},
   "outputs": [],
   "source": [
    "# create object that holds window coordinates etc\n",
    "from main import windowed_SR_and_saving\n",
    "file_path=\"/data2/simon/test_s2/S2A_MSIL2A_20230729T100031_N0509_R122_T33TUG_20230729T134559.SAFE/stacked_RGBNIR.tif\"\n",
    "sr_obj = windowed_SR_and_saving(file_path)"
   ]
  },
  {
   "cell_type": "code",
   "execution_count": 8,
   "id": "a5f2a788-7a9a-40ba-97df-ecc630a8f581",
   "metadata": {},
   "outputs": [],
   "source": [
    "!cp /data2/simon/test_s2/S2A_MSIL2A_20230729T100031_N0509_R122_T33TUG_20230729T134559.SAFE/SR_10mbands.tif /data1/simon/GitHub/sr-s2-tile"
   ]
  },
  {
   "cell_type": "code",
   "execution_count": null,
   "id": "d55c7d02-cd11-4c1e-a28a-ebe1973d7fcb",
   "metadata": {},
   "outputs": [],
   "source": []
  },
  {
   "cell_type": "code",
   "execution_count": 33,
   "id": "118d28e5-2a44-47c2-91ab-6ac66df3dc11",
   "metadata": {},
   "outputs": [
    {
     "name": "stdout",
     "output_type": "stream",
     "text": [
      "total 5.8G\n",
      "drwxrwxrwx 7 simike visitor 4.0K Dec  8 17:35 .\n",
      "drwxr-xr-x 3 simike visitor 4.0K Nov  2 10:14 ..\n",
      "drwxrwxrwx 2 simike visitor 4.0K Jul 29 14:54 AUX_DATA\n",
      "drwxrwxrwx 3 simike visitor 4.0K Jul 29 14:54 DATASTRIP\n",
      "drwxrwxrwx 3 simike visitor 4.0K Jul 29 14:54 GRANULE\n",
      "drwxrwxrwx 2 simike visitor 4.0K Jul 29 14:54 HTML\n",
      "-rw-rw-rw- 1 simike visitor  19K Jul 29 14:54 INSPIRE.xml\n",
      "-rw-rw-rw- 1 simike visitor  68K Jul 29 14:54 manifest.safe\n",
      "-rw-rw-rw- 1 simike visitor  54K Jul 29 14:54 MTD_MSIL2A.xml\n",
      "drwxrwxrwx 2 simike visitor 4.0K Jul 29 14:54 rep_info\n",
      "-rw-r--r-- 1 simike visitor 5.4G Dec  8 17:40 SR_20mbands.tif\n",
      "-rw-r--r-- 1 simike visitor 345M Dec  8 17:35 stacked_20m.tif\n"
     ]
    }
   ],
   "source": [
    "!ls -alh /data2/simon/test_s2/S2A_MSIL2A_20230729T100031_N0509_R122_T33TUG_20230729T134559.SAFE/"
   ]
  },
  {
   "cell_type": "code",
   "execution_count": 18,
   "id": "eeec4063-6ccf-4229-87a0-52c4d8ffa5ec",
   "metadata": {},
   "outputs": [
    {
     "name": "stdout",
     "output_type": "stream",
     "text": [
      "-rw-r--r-- 1 simike visitor 15G Dec  8 16:09 /data2/simon/test_s2/S2A_MSIL2A_20230729T100031_N0509_R122_T33TUG_20230729T134559.SAFE/SR_10mbands.tif\n"
     ]
    }
   ],
   "source": [
    "!ls -alh /data2/simon/test_s2/S2A_MSIL2A_20230729T100031_N0509_R122_T33TUG_20230729T134559.SAFE/SR_10mbands.tif"
   ]
  },
  {
   "cell_type": "code",
   "execution_count": 31,
   "id": "f45712ac-7365-409d-8b53-6accef9f6a44",
   "metadata": {},
   "outputs": [],
   "source": [
    "!rm /data2/simon/test_s2/S2A_MSIL2A_20230729T100031_N0509_R122_T33TUG_20230729T134559.SAFE/SR_20mbands.tif\n",
    "!rm /data2/simon/test_s2/S2A_MSIL2A_20230729T100031_N0509_R122_T33TUG_20230729T134559.SAFE/stacked_20m.tif"
   ]
  },
  {
   "cell_type": "code",
   "execution_count": 13,
   "id": "f5186132-bffb-4227-9103-afb10b9b15d0",
   "metadata": {},
   "outputs": [],
   "source": [
    "!cp /data2/simon/test_s2/S2A_MSIL2A_20230729T100031_N0509_R122_T33TUG_20230729T134559.SAFE/stacked_RGBNIR.tif /data1/simon/GitHub/sr-s2-tile"
   ]
  },
  {
   "cell_type": "code",
   "execution_count": 19,
   "id": "32b6c0e0-9e67-4ecd-b4e0-cc36684a7ecc",
   "metadata": {},
   "outputs": [],
   "source": [
    "!cp /data2/simon/test_s2/S2A_MSIL2A_20230729T100031_N0509_R122_T33TUG_20230729T134559.SAFE/SR_10mbands.tif /data1/simon/GitHub/sr-s2-tile"
   ]
  },
  {
   "cell_type": "code",
   "execution_count": 20,
   "id": "4f838f19-2f93-4104-b5ea-4eb3b403c9f7",
   "metadata": {},
   "outputs": [],
   "source": [
    "!cp /data2/simon/test_s2/S2A_MSIL2A_20230729T100031_N0509_R122_T33TUG_20230729T134559.SAFE/SR_20mbands.tif /data1/simon/GitHub/sr-s2-tile"
   ]
  },
  {
   "cell_type": "code",
   "execution_count": null,
   "id": "c307ce27-00d3-4b84-92bf-3d8062a3f68a",
   "metadata": {},
   "outputs": [],
   "source": []
  },
  {
   "cell_type": "code",
   "execution_count": null,
   "id": "8e961404-1205-480f-ab3b-1d8c7c9b0fb6",
   "metadata": {},
   "outputs": [],
   "source": []
  },
  {
   "cell_type": "code",
   "execution_count": 28,
   "id": "b3d826cc-c6bf-4b7c-8816-fc107b03407e",
   "metadata": {},
   "outputs": [
    {
     "name": "stdout",
     "output_type": "stream",
     "text": [
      "AUX_DATA   GRANULE  INSPIRE.xml    MTD_MSIL2A.xml\n",
      "DATASTRIP  HTML     manifest.safe  rep_info\n"
     ]
    }
   ],
   "source": [
    "!ls /data2/simon/test_s2/S2A_MSIL2A_20230729T100031_N0509_R122_T33TUG_20230729T134559.SAFE"
   ]
  },
  {
   "cell_type": "code",
   "execution_count": null,
   "id": "cfc47c38-33b7-4704-b9df-062fb02e944a",
   "metadata": {},
   "outputs": [],
   "source": []
  },
  {
   "cell_type": "code",
   "execution_count": null,
   "id": "8ddcd81b-4b2a-40e7-bc16-c048c823385d",
   "metadata": {},
   "outputs": [],
   "source": []
  },
  {
   "cell_type": "code",
   "execution_count": null,
   "id": "e3e30cfe-426b-4587-be41-7d83844cf3c8",
   "metadata": {},
   "outputs": [],
   "source": []
  },
  {
   "cell_type": "markdown",
   "id": "75dbf3f5-5358-486c-ac76-d3439cb49292",
   "metadata": {},
   "source": [
    "# 3. Load Model"
   ]
  },
  {
   "cell_type": "code",
   "execution_count": 7,
   "id": "0f916d94-8acf-4793-b500-fb7823edc454",
   "metadata": {},
   "outputs": [
    {
     "name": "stdout",
     "output_type": "stream",
     "text": [
      "total 60G\n",
      "drwxrwxrwx 7 simike visitor 4.0K Dec  7 15:26 .\n",
      "drwxr-xr-x 3 simike visitor 4.0K Nov  2 10:14 ..\n",
      "drwxrwxrwx 2 simike visitor 4.0K Jul 29 14:54 AUX_DATA\n",
      "drwxrwxrwx 3 simike visitor 4.0K Jul 29 14:54 DATASTRIP\n",
      "drwxrwxrwx 3 simike visitor 4.0K Jul 29 14:54 GRANULE\n",
      "drwxrwxrwx 2 simike visitor 4.0K Jul 29 14:54 HTML\n",
      "-rw-rw-rw- 1 simike visitor  19K Jul 29 14:54 INSPIRE.xml\n",
      "-rw-rw-rw- 1 simike visitor  68K Jul 29 14:54 manifest.safe\n",
      "-rw-rw-rw- 1 simike visitor  54K Jul 29 14:54 MTD_MSIL2A.xml\n",
      "drwxrwxrwx 2 simike visitor 4.0K Jul 29 14:54 rep_info\n",
      "-rw-r--r-- 1 simike visitor  15G Dec  7 15:26 SR_10mbands.tif\n",
      "-rw-r--r-- 1 simike visitor 5.4G Dec  7 15:26 SR_20mbands.tif\n",
      "-rw-r--r-- 1 simike visitor 345M Dec  7 13:14 stacked_20m.tif\n",
      "-rw-r--r-- 1 simike visitor  58G Nov  8 13:49 stacked_RGBNIR_SR.tif\n",
      "-rw-r--r-- 1 simike visitor 1.1G Nov  8 14:13 stacked_RGBNIR_SR_window.tif\n",
      "-rw-r--r-- 1 simike visitor 920M Dec  7 13:14 stacked_RGBNIR.tif\n"
     ]
    }
   ],
   "source": [
    "!ls -alh /data2/simon/test_s2/S2A_MSIL2A_20230729T100031_N0509_R122_T33TUG_20230729T134559.SAFE/"
   ]
  },
  {
   "cell_type": "markdown",
   "id": "66fda703-551f-4a62-b9cf-e918236e47b3",
   "metadata": {},
   "source": [
    "## 4. Perform SR\n",
    "The 'super_resolute_whole_image' takes the initialized model and iteratively performs the SR and the stitching & saving of the final image. Our models typically dont have a standard *model.forward* call to perform SR, which is why you can specify a custom command. Note that the normalization parameters are set in the class definitions."
   ]
  },
  {
   "cell_type": "code",
   "execution_count": null,
   "id": "e1b58547-9880-46c4-aeb9-cc8406115df7",
   "metadata": {},
   "outputs": [],
   "source": [
    "# SR and save whole image\n",
    "sr_obj.super_resolute_whole_image(model=None,forward_call=\"forward\",custom_steps=100)"
   ]
  },
  {
   "cell_type": "code",
   "execution_count": null,
   "id": "5331e16d-e730-4320-be6e-7d3d35513339",
   "metadata": {},
   "outputs": [],
   "source": []
  },
  {
   "cell_type": "code",
   "execution_count": null,
   "id": "d172bddc-5920-49f4-a38e-bf4e298bd6e5",
   "metadata": {},
   "outputs": [],
   "source": []
  },
  {
   "cell_type": "code",
   "execution_count": null,
   "id": "7723e944-36af-4122-9a64-dd3892f31c32",
   "metadata": {},
   "outputs": [],
   "source": []
  }
 ],
 "metadata": {
  "kernelspec": {
   "display_name": "Python 3 (ipykernel)",
   "language": "python",
   "name": "python3"
  },
  "language_info": {
   "codemirror_mode": {
    "name": "ipython",
    "version": 3
   },
   "file_extension": ".py",
   "mimetype": "text/x-python",
   "name": "python",
   "nbconvert_exporter": "python",
   "pygments_lexer": "ipython3",
   "version": "3.10.12"
  }
 },
 "nbformat": 4,
 "nbformat_minor": 5
}
