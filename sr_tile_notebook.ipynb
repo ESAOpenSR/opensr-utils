{
 "cells": [
  {
   "cell_type": "markdown",
   "id": "ba938a2e-e31a-40f0-9b2d-24be8fc700b7",
   "metadata": {},
   "source": [
    "# 1. Prepare Data\n",
    "The 'extract_rgbnir_from_S2_folder' function creates a georeferenced .tiff of the RGB-NIR bands from the '.SAFE' data structure as provided by Scihub. The stacked image is saved in the same directory."
   ]
  },
  {
   "cell_type": "code",
   "execution_count": 2,
   "id": "c056b204-8b25-406a-81b0-a03226a9de79",
   "metadata": {},
   "outputs": [
    {
     "name": "stdout",
     "output_type": "stream",
     "text": [
      "writing band R ...\n",
      "writing band G ...\n",
      "writing band B ...\n",
      "writing band NIR ...\n",
      "Image succesfully written to: /data2/simon/test_s2/S2A_MSIL2A_20230729T100031_N0509_R122_T33TUG_20230729T134559.SAFE/stacked_RGBNIR.tif\n"
     ]
    }
   ],
   "source": [
    "# if we have raw S2 download, create stacked image\n",
    "from utils.rgbnir_stacked_from_S2_folder import extract_rgbnir_from_S2_folder\n",
    "stack_needed=True\n",
    "if stack_needed:\n",
    "    folder_path = \"/data2/simon/test_s2/S2A_MSIL2A_20230729T100031_N0509_R122_T33TUG_20230729T134559.SAFE\"\n",
    "    extract_rgbnir_from_S2_folder(folder_path)"
   ]
  },
  {
   "cell_type": "markdown",
   "id": "2e3e64fd-da3b-4c03-9b37-d2bd3e47577e",
   "metadata": {},
   "source": [
    "# 2. SR functions\n",
    "## 2.1 Create SR Object\n",
    "This class holds all the information and function to SR a stacked RGB-NIR image. When initialized it holds the rasterio windowed reading coordinates with an overlap. The 'super_resolute_whole_image' function iteratively SRs the windows and cobines them together, averaging out the values for the overlapping areas.  \n",
    "**Note some inefficiency problems:**\n",
    "- Doesn't support multi-GPU inference\n",
    "- The whole image and the initialized SR tensor are stored in memory\n",
    "- images are SR'd one by one, not batched\n",
    "- other functionalities, like histogram matching, run single-threadedly"
   ]
  },
  {
   "cell_type": "code",
   "execution_count": 3,
   "id": "2aa405d2-2a57-4159-9065-c1b7f54fbceb",
   "metadata": {},
   "outputs": [],
   "source": [
    "# create object that holds window coordinates etc\n",
    "from main import windowed_SR_and_saving\n",
    "file_path=\"/data2/simon/test_s2/S2A_MSIL2A_20230729T100031_N0509_R122_T33TUG_20230729T134559.SAFE/stacked_RGBNIR.tif\"\n",
    "sr_obj = windowed_SR_and_saving(file_path)"
   ]
  },
  {
   "cell_type": "markdown",
   "id": "66fda703-551f-4a62-b9cf-e918236e47b3",
   "metadata": {},
   "source": [
    "## 2.2 Perform SR\n",
    "The 'super_resolute_whole_image' takes the initialized model and iteratively performs the SR and the stitching & saving of the final image. Our models typically dont have a standard *model.forward* call to perform SR, which is why you can specify a custom command. Note that the normalization parameters are set in the class definitions."
   ]
  },
  {
   "cell_type": "code",
   "execution_count": null,
   "id": "e1b58547-9880-46c4-aeb9-cc8406115df7",
   "metadata": {},
   "outputs": [],
   "source": [
    "# SR and save whole image\n",
    "sr_obj.super_resolute_whole_image(model=None,forward_call=\"forward\",custom_steps=100)"
   ]
  },
  {
   "cell_type": "code",
   "execution_count": null,
   "id": "5331e16d-e730-4320-be6e-7d3d35513339",
   "metadata": {},
   "outputs": [],
   "source": []
  },
  {
   "cell_type": "code",
   "execution_count": null,
   "id": "d172bddc-5920-49f4-a38e-bf4e298bd6e5",
   "metadata": {},
   "outputs": [],
   "source": []
  },
  {
   "cell_type": "code",
   "execution_count": null,
   "id": "7723e944-36af-4122-9a64-dd3892f31c32",
   "metadata": {},
   "outputs": [],
   "source": []
  }
 ],
 "metadata": {
  "kernelspec": {
   "display_name": "Python 3 (ipykernel)",
   "language": "python",
   "name": "python3"
  },
  "language_info": {
   "codemirror_mode": {
    "name": "ipython",
    "version": 3
   },
   "file_extension": ".py",
   "mimetype": "text/x-python",
   "name": "python",
   "nbconvert_exporter": "python",
   "pygments_lexer": "ipython3",
   "version": "3.10.12"
  }
 },
 "nbformat": 4,
 "nbformat_minor": 5
}
