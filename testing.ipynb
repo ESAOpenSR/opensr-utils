{
 "cells": [
  {
   "cell_type": "code",
   "execution_count": null,
   "id": "bd20603c-5405-4122-8e45-9bbeafa59ae6",
   "metadata": {},
   "outputs": [],
   "source": []
  },
  {
   "cell_type": "code",
   "execution_count": 1,
   "id": "aba8bfbe-2742-4d77-a7bb-274a101b6a02",
   "metadata": {},
   "outputs": [
    {
     "name": "stdout",
     "output_type": "stream",
     "text": [
      "writing band RE1 ...\n",
      "writing band RE2 ...\n",
      "writing band RE3 ...\n",
      "writing band NIR2 ...\n",
      "writing band SWIR1 ...\n",
      "writing band SWIR2 ...\n",
      "Image succesfully written to: /data2/simon/test_s2/S2A_MSIL2A_20230729T100031_N0509_R122_T33TUG_20230729T134559.SAFE/stacked_20m.tif\n"
     ]
    }
   ],
   "source": [
    "# if we have raw S2 download, create stacked image\n",
    "from utils.bands20m_stacked_from_S2_folder import extract_20mbands_from_S2_folder\n",
    "stack_needed=True\n",
    "if stack_needed:\n",
    "    folder_path = \"/data2/simon/test_s2/S2A_MSIL2A_20230729T100031_N0509_R122_T33TUG_20230729T134559.SAFE\"\n",
    "    extract_20mbands_from_S2_folder(folder_path)"
   ]
  },
  {
   "cell_type": "code",
   "execution_count": null,
   "id": "c118a9ea-1331-4ea0-89f7-5705bf5f02b3",
   "metadata": {},
   "outputs": [],
   "source": []
  },
  {
   "cell_type": "code",
   "execution_count": null,
   "id": "6ffd59d4-343e-46bb-985c-e34a929e03b9",
   "metadata": {},
   "outputs": [],
   "source": []
  },
  {
   "cell_type": "code",
   "execution_count": 39,
   "id": "4b2e5a0c-0608-43a8-80ad-5ace19d78fbb",
   "metadata": {},
   "outputs": [],
   "source": [
    "!cp /data2/simon/test_s2/S2A_MSIL2A_20230729T100031_N0509_R122_T33TUG_20230729T134559.SAFE/stacked_20m.tif /data1/simon/GitHub/sr-s2-tile"
   ]
  },
  {
   "cell_type": "code",
   "execution_count": null,
   "id": "31752114-ba89-4fb4-9bb1-32d86e7804e2",
   "metadata": {},
   "outputs": [],
   "source": []
  },
  {
   "cell_type": "code",
   "execution_count": null,
   "id": "ae65bbc0-8c49-4b65-9706-7124af363ca0",
   "metadata": {},
   "outputs": [],
   "source": []
  }
 ],
 "metadata": {
  "kernelspec": {
   "display_name": "Python 3 (ipykernel)",
   "language": "python",
   "name": "python3"
  },
  "language_info": {
   "codemirror_mode": {
    "name": "ipython",
    "version": 3
   },
   "file_extension": ".py",
   "mimetype": "text/x-python",
   "name": "python",
   "nbconvert_exporter": "python",
   "pygments_lexer": "ipython3",
   "version": "3.10.12"
  }
 },
 "nbformat": 4,
 "nbformat_minor": 5
}
